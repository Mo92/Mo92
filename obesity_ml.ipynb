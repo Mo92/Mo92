{
  "nbformat": 4,
  "nbformat_minor": 0,
  "metadata": {
    "colab": {
      "provenance": [],
      "include_colab_link": true
    },
    "kernelspec": {
      "name": "python3",
      "display_name": "Python 3"
    },
    "language_info": {
      "name": "python"
    }
  },
  "cells": [
    {
      "cell_type": "markdown",
      "metadata": {
        "id": "view-in-github",
        "colab_type": "text"
      },
      "source": [
        "<a href=\"https://colab.research.google.com/github/Mo92/Mo92/blob/main/obesity_ml.ipynb\" target=\"_parent\"><img src=\"https://colab.research.google.com/assets/colab-badge.svg\" alt=\"Open In Colab\"/></a>"
      ]
    },
    {
      "cell_type": "markdown",
      "source": [
        "# 0. Aufgabenverteilung\n",
        "Julia: Features 0–7 (Gender, Age, Height, Weight, family_history_with_overweight, FAVC, FCVC, NCP), Modell A (z.B. Logistic Regression)\n",
        "\n",
        "Keisha: Features 8–15, Modell B (z.B. Random Forest)\n",
        "\n",
        "Gruppe: Gemeinsame Kapitel (Business Understanding, Data Prep, Evaluation)"
      ],
      "metadata": {
        "id": "9kPvaZxPf84V"
      }
    },
    {
      "cell_type": "markdown",
      "source": [
        "# 1. Business Understanding\n",
        "\n",
        "\n"
      ],
      "metadata": {
        "id": "5unpaONYMCSg"
      }
    },
    {
      "cell_type": "markdown",
      "source": [],
      "metadata": {
        "id": "RpuS1Ykzf3cO"
      }
    },
    {
      "cell_type": "markdown",
      "source": [
        "1.1 Problemdefinition:\n",
        "\n",
        "Die zunehmende Verbreitung von Übergewicht und Adipositas stellt weltweit eine ernstzunehmende Herausforderung für die öffentliche Gesundheit dar. Ungesunde Ernährungsgewohnheiten, Bewegungsmangel und ein sitzender Lebensstil sind bekannte Risikofaktoren, die zu erhöhten Gesundheitskosten und einer geringeren Lebensqualität führen. Ziel dieses Projekts ist es, ein datengetriebenes System zu entwickeln, das den Adipositas-Level einer Person anhand leicht zugänglicher Informationen über Ernährung und körperliche Aktivität automatisch klassifizieren kann.\n",
        "\n",
        "1.2 Zielsetzung der Datenanalyse:\n",
        "\n",
        "Mit Hilfe maschineller Lernverfahren sollen Muster und Zusammenhänge zwischen Lebensgewohnheiten und dem Adipositas-Level aufgedeckt werden. Anschließend wird ein Vorhersagemodell entwickelt, das die Adipositas-Klasse (z. B. Untergewicht, Normalgewicht, Übergewicht, Adipositas Typ I–III) zuverlässig bestimmen kann. Solch ein Modell könnte z. B. in digitalen Gesundheits-Apps oder im Rahmen präventiver Beratung eingesetzt werden.\n",
        "\n",
        "1.3 Projekterfolgskriterien:\n",
        "\n",
        "Ein generalisierbares Vorhersagemodell mit einer F1-Score ≥ 0.85 auf dem Testdatensatz\n",
        "Interpretierbare Modellentscheidungen (z. B. mit SHAP)\n",
        "Klar strukturierte und dokumentierte Ergebnisse\n",
        "Verständliche Darstellung der Erkenntnisse, auch für nicht-technische Zielgruppen (z. B. Gesundheitsberater:innen)\n",
        "\n",
        "1.4 Projektplan\n",
        "\n",
        "| Aufgabe                       | Name      | Beschreibung                                      |\n",
        "| ----------------------------- | --------- | ------------------------------------------------- |\n",
        "| Business Understanding        | Gruppe    | Gemeinsame Zieldefinition und Planung             |\n",
        "| EDA: Features 0–7             | \\[Julia] | Analyse, Visualisierung und Bewertung             |\n",
        "| EDA: Features 8–15            | \\[Keisha] | Analyse, Visualisierung und Bewertung             |\n",
        "| Datenvorbereitung             | Gruppe    | Gemeinsame Bearbeitung (z. B. Encoding, Cleaning) |\n",
        "| Modell 1: Logistic Regression | \\[Julia] | Eigene Pipeline, Optimierung, Evaluierung         |\n",
        "| Modell 2: Random Forest       | \\[Keisha] | Eigene Pipeline, Optimierung, Evaluierung         |\n",
        "| Evaluation & Vergleich        | Gruppe    | Gemeinsame Bewertung und Entscheidung             |\n",
        "\n"
      ],
      "metadata": {
        "id": "Is2UdchJMxXf"
      }
    },
    {
      "cell_type": "markdown",
      "source": [
        "# 2. Dataset\n"
      ],
      "metadata": {
        "id": "ejRv5gmrOdmc"
      }
    },
    {
      "cell_type": "code",
      "source": [
        "# Bibliotheken\n",
        "import pandas as pd\n",
        "import plotly.express as px\n",
        "!pip install ucimlrepo\n",
        "from ucimlrepo import fetch_ucirepo"
      ],
      "metadata": {
        "id": "m99VopA8E4aR",
        "colab": {
          "base_uri": "https://localhost:8080/"
        },
        "outputId": "d91f8a1f-cab2-490f-d508-43625feac719"
      },
      "execution_count": null,
      "outputs": [
        {
          "output_type": "stream",
          "name": "stdout",
          "text": [
            "Collecting ucimlrepo\n",
            "  Downloading ucimlrepo-0.0.7-py3-none-any.whl.metadata (5.5 kB)\n",
            "Requirement already satisfied: pandas>=1.0.0 in /usr/local/lib/python3.11/dist-packages (from ucimlrepo) (2.2.2)\n",
            "Requirement already satisfied: certifi>=2020.12.5 in /usr/local/lib/python3.11/dist-packages (from ucimlrepo) (2025.6.15)\n",
            "Requirement already satisfied: numpy>=1.23.2 in /usr/local/lib/python3.11/dist-packages (from pandas>=1.0.0->ucimlrepo) (2.0.2)\n",
            "Requirement already satisfied: python-dateutil>=2.8.2 in /usr/local/lib/python3.11/dist-packages (from pandas>=1.0.0->ucimlrepo) (2.9.0.post0)\n",
            "Requirement already satisfied: pytz>=2020.1 in /usr/local/lib/python3.11/dist-packages (from pandas>=1.0.0->ucimlrepo) (2025.2)\n",
            "Requirement already satisfied: tzdata>=2022.7 in /usr/local/lib/python3.11/dist-packages (from pandas>=1.0.0->ucimlrepo) (2025.2)\n",
            "Requirement already satisfied: six>=1.5 in /usr/local/lib/python3.11/dist-packages (from python-dateutil>=2.8.2->pandas>=1.0.0->ucimlrepo) (1.17.0)\n",
            "Downloading ucimlrepo-0.0.7-py3-none-any.whl (8.0 kB)\n",
            "Installing collected packages: ucimlrepo\n",
            "Successfully installed ucimlrepo-0.0.7\n"
          ]
        }
      ]
    },
    {
      "cell_type": "code",
      "source": [
        "# fetch dataset\n",
        "dataset= fetch_ucirepo(id=544)\n",
        "\n",
        "# data (as pandas dataframes)\n",
        "X = dataset.data.features\n",
        "Y = dataset.data.targets\n",
        "\n",
        "# metadata\n",
        "print(dataset.metadata)\n",
        "\n",
        "# variable information\n",
        "print(dataset.variables)\n",
        "\n",
        "# DataFrame\n",
        "df = pd.concat([X, Y], axis=1)\n",
        "\n",
        "#Zielspalte\n",
        "target_col = 'NObeyesdad'\n"
      ],
      "metadata": {
        "colab": {
          "base_uri": "https://localhost:8080/",
          "height": 486
        },
        "id": "VLYmrvIpMI5b",
        "outputId": "a4b59ebc-7e15-43ca-c316-f94aa6de351c"
      },
      "execution_count": null,
      "outputs": [
        {
          "output_type": "error",
          "ename": "ConnectionError",
          "evalue": "Error connecting to server",
          "traceback": [
            "\u001b[0;31m---------------------------------------------------------------------------\u001b[0m",
            "\u001b[0;31mTimeoutError\u001b[0m                              Traceback (most recent call last)",
            "\u001b[0;32m/usr/lib/python3.11/urllib/request.py\u001b[0m in \u001b[0;36mdo_open\u001b[0;34m(self, http_class, req, **http_conn_args)\u001b[0m\n\u001b[1;32m   1347\u001b[0m             \u001b[0;32mtry\u001b[0m\u001b[0;34m:\u001b[0m\u001b[0;34m\u001b[0m\u001b[0;34m\u001b[0m\u001b[0m\n\u001b[0;32m-> 1348\u001b[0;31m                 h.request(req.get_method(), req.selector, req.data, headers,\n\u001b[0m\u001b[1;32m   1349\u001b[0m                           encode_chunked=req.has_header('Transfer-encoding'))\n",
            "\u001b[0;32m/usr/lib/python3.11/http/client.py\u001b[0m in \u001b[0;36mrequest\u001b[0;34m(self, method, url, body, headers, encode_chunked)\u001b[0m\n\u001b[1;32m   1302\u001b[0m         \u001b[0;34m\"\"\"Send a complete request to the server.\"\"\"\u001b[0m\u001b[0;34m\u001b[0m\u001b[0;34m\u001b[0m\u001b[0m\n\u001b[0;32m-> 1303\u001b[0;31m         \u001b[0mself\u001b[0m\u001b[0;34m.\u001b[0m\u001b[0m_send_request\u001b[0m\u001b[0;34m(\u001b[0m\u001b[0mmethod\u001b[0m\u001b[0;34m,\u001b[0m \u001b[0murl\u001b[0m\u001b[0;34m,\u001b[0m \u001b[0mbody\u001b[0m\u001b[0;34m,\u001b[0m \u001b[0mheaders\u001b[0m\u001b[0;34m,\u001b[0m \u001b[0mencode_chunked\u001b[0m\u001b[0;34m)\u001b[0m\u001b[0;34m\u001b[0m\u001b[0;34m\u001b[0m\u001b[0m\n\u001b[0m\u001b[1;32m   1304\u001b[0m \u001b[0;34m\u001b[0m\u001b[0m\n",
            "\u001b[0;32m/usr/lib/python3.11/http/client.py\u001b[0m in \u001b[0;36m_send_request\u001b[0;34m(self, method, url, body, headers, encode_chunked)\u001b[0m\n\u001b[1;32m   1348\u001b[0m             \u001b[0mbody\u001b[0m \u001b[0;34m=\u001b[0m \u001b[0m_encode\u001b[0m\u001b[0;34m(\u001b[0m\u001b[0mbody\u001b[0m\u001b[0;34m,\u001b[0m \u001b[0;34m'body'\u001b[0m\u001b[0;34m)\u001b[0m\u001b[0;34m\u001b[0m\u001b[0;34m\u001b[0m\u001b[0m\n\u001b[0;32m-> 1349\u001b[0;31m         \u001b[0mself\u001b[0m\u001b[0;34m.\u001b[0m\u001b[0mendheaders\u001b[0m\u001b[0;34m(\u001b[0m\u001b[0mbody\u001b[0m\u001b[0;34m,\u001b[0m \u001b[0mencode_chunked\u001b[0m\u001b[0;34m=\u001b[0m\u001b[0mencode_chunked\u001b[0m\u001b[0;34m)\u001b[0m\u001b[0;34m\u001b[0m\u001b[0;34m\u001b[0m\u001b[0m\n\u001b[0m\u001b[1;32m   1350\u001b[0m \u001b[0;34m\u001b[0m\u001b[0m\n",
            "\u001b[0;32m/usr/lib/python3.11/http/client.py\u001b[0m in \u001b[0;36mendheaders\u001b[0;34m(self, message_body, encode_chunked)\u001b[0m\n\u001b[1;32m   1297\u001b[0m             \u001b[0;32mraise\u001b[0m \u001b[0mCannotSendHeader\u001b[0m\u001b[0;34m(\u001b[0m\u001b[0;34m)\u001b[0m\u001b[0;34m\u001b[0m\u001b[0;34m\u001b[0m\u001b[0m\n\u001b[0;32m-> 1298\u001b[0;31m         \u001b[0mself\u001b[0m\u001b[0;34m.\u001b[0m\u001b[0m_send_output\u001b[0m\u001b[0;34m(\u001b[0m\u001b[0mmessage_body\u001b[0m\u001b[0;34m,\u001b[0m \u001b[0mencode_chunked\u001b[0m\u001b[0;34m=\u001b[0m\u001b[0mencode_chunked\u001b[0m\u001b[0;34m)\u001b[0m\u001b[0;34m\u001b[0m\u001b[0;34m\u001b[0m\u001b[0m\n\u001b[0m\u001b[1;32m   1299\u001b[0m \u001b[0;34m\u001b[0m\u001b[0m\n",
            "\u001b[0;32m/usr/lib/python3.11/http/client.py\u001b[0m in \u001b[0;36m_send_output\u001b[0;34m(self, message_body, encode_chunked)\u001b[0m\n\u001b[1;32m   1057\u001b[0m         \u001b[0;32mdel\u001b[0m \u001b[0mself\u001b[0m\u001b[0;34m.\u001b[0m\u001b[0m_buffer\u001b[0m\u001b[0;34m[\u001b[0m\u001b[0;34m:\u001b[0m\u001b[0;34m]\u001b[0m\u001b[0;34m\u001b[0m\u001b[0;34m\u001b[0m\u001b[0m\n\u001b[0;32m-> 1058\u001b[0;31m         \u001b[0mself\u001b[0m\u001b[0;34m.\u001b[0m\u001b[0msend\u001b[0m\u001b[0;34m(\u001b[0m\u001b[0mmsg\u001b[0m\u001b[0;34m)\u001b[0m\u001b[0;34m\u001b[0m\u001b[0;34m\u001b[0m\u001b[0m\n\u001b[0m\u001b[1;32m   1059\u001b[0m \u001b[0;34m\u001b[0m\u001b[0m\n",
            "\u001b[0;32m/usr/lib/python3.11/http/client.py\u001b[0m in \u001b[0;36msend\u001b[0;34m(self, data)\u001b[0m\n\u001b[1;32m    995\u001b[0m             \u001b[0;32mif\u001b[0m \u001b[0mself\u001b[0m\u001b[0;34m.\u001b[0m\u001b[0mauto_open\u001b[0m\u001b[0;34m:\u001b[0m\u001b[0;34m\u001b[0m\u001b[0;34m\u001b[0m\u001b[0m\n\u001b[0;32m--> 996\u001b[0;31m                 \u001b[0mself\u001b[0m\u001b[0;34m.\u001b[0m\u001b[0mconnect\u001b[0m\u001b[0;34m(\u001b[0m\u001b[0;34m)\u001b[0m\u001b[0;34m\u001b[0m\u001b[0;34m\u001b[0m\u001b[0m\n\u001b[0m\u001b[1;32m    997\u001b[0m             \u001b[0;32melse\u001b[0m\u001b[0;34m:\u001b[0m\u001b[0;34m\u001b[0m\u001b[0;34m\u001b[0m\u001b[0m\n",
            "\u001b[0;32m/usr/lib/python3.11/http/client.py\u001b[0m in \u001b[0;36mconnect\u001b[0;34m(self)\u001b[0m\n\u001b[1;32m   1467\u001b[0m \u001b[0;34m\u001b[0m\u001b[0m\n\u001b[0;32m-> 1468\u001b[0;31m             \u001b[0msuper\u001b[0m\u001b[0;34m(\u001b[0m\u001b[0;34m)\u001b[0m\u001b[0;34m.\u001b[0m\u001b[0mconnect\u001b[0m\u001b[0;34m(\u001b[0m\u001b[0;34m)\u001b[0m\u001b[0;34m\u001b[0m\u001b[0;34m\u001b[0m\u001b[0m\n\u001b[0m\u001b[1;32m   1469\u001b[0m \u001b[0;34m\u001b[0m\u001b[0m\n",
            "\u001b[0;32m/usr/lib/python3.11/http/client.py\u001b[0m in \u001b[0;36mconnect\u001b[0;34m(self)\u001b[0m\n\u001b[1;32m    961\u001b[0m         \u001b[0msys\u001b[0m\u001b[0;34m.\u001b[0m\u001b[0maudit\u001b[0m\u001b[0;34m(\u001b[0m\u001b[0;34m\"http.client.connect\"\u001b[0m\u001b[0;34m,\u001b[0m \u001b[0mself\u001b[0m\u001b[0;34m,\u001b[0m \u001b[0mself\u001b[0m\u001b[0;34m.\u001b[0m\u001b[0mhost\u001b[0m\u001b[0;34m,\u001b[0m \u001b[0mself\u001b[0m\u001b[0;34m.\u001b[0m\u001b[0mport\u001b[0m\u001b[0;34m)\u001b[0m\u001b[0;34m\u001b[0m\u001b[0;34m\u001b[0m\u001b[0m\n\u001b[0;32m--> 962\u001b[0;31m         self.sock = self._create_connection(\n\u001b[0m\u001b[1;32m    963\u001b[0m             (self.host,self.port), self.timeout, self.source_address)\n",
            "\u001b[0;32m/usr/lib/python3.11/socket.py\u001b[0m in \u001b[0;36mcreate_connection\u001b[0;34m(address, timeout, source_address, all_errors)\u001b[0m\n\u001b[1;32m    862\u001b[0m             \u001b[0;32mif\u001b[0m \u001b[0;32mnot\u001b[0m \u001b[0mall_errors\u001b[0m\u001b[0;34m:\u001b[0m\u001b[0;34m\u001b[0m\u001b[0;34m\u001b[0m\u001b[0m\n\u001b[0;32m--> 863\u001b[0;31m                 \u001b[0;32mraise\u001b[0m \u001b[0mexceptions\u001b[0m\u001b[0;34m[\u001b[0m\u001b[0;36m0\u001b[0m\u001b[0;34m]\u001b[0m\u001b[0;34m\u001b[0m\u001b[0;34m\u001b[0m\u001b[0m\n\u001b[0m\u001b[1;32m    864\u001b[0m             \u001b[0;32mraise\u001b[0m \u001b[0mExceptionGroup\u001b[0m\u001b[0;34m(\u001b[0m\u001b[0;34m\"create_connection failed\"\u001b[0m\u001b[0;34m,\u001b[0m \u001b[0mexceptions\u001b[0m\u001b[0;34m)\u001b[0m\u001b[0;34m\u001b[0m\u001b[0;34m\u001b[0m\u001b[0m\n",
            "\u001b[0;32m/usr/lib/python3.11/socket.py\u001b[0m in \u001b[0;36mcreate_connection\u001b[0;34m(address, timeout, source_address, all_errors)\u001b[0m\n\u001b[1;32m    847\u001b[0m                 \u001b[0msock\u001b[0m\u001b[0;34m.\u001b[0m\u001b[0mbind\u001b[0m\u001b[0;34m(\u001b[0m\u001b[0msource_address\u001b[0m\u001b[0;34m)\u001b[0m\u001b[0;34m\u001b[0m\u001b[0;34m\u001b[0m\u001b[0m\n\u001b[0;32m--> 848\u001b[0;31m             \u001b[0msock\u001b[0m\u001b[0;34m.\u001b[0m\u001b[0mconnect\u001b[0m\u001b[0;34m(\u001b[0m\u001b[0msa\u001b[0m\u001b[0;34m)\u001b[0m\u001b[0;34m\u001b[0m\u001b[0;34m\u001b[0m\u001b[0m\n\u001b[0m\u001b[1;32m    849\u001b[0m             \u001b[0;31m# Break explicitly a reference cycle\u001b[0m\u001b[0;34m\u001b[0m\u001b[0;34m\u001b[0m\u001b[0m\n",
            "\u001b[0;31mTimeoutError\u001b[0m: [Errno 110] Connection timed out",
            "\nDuring handling of the above exception, another exception occurred:\n",
            "\u001b[0;31mURLError\u001b[0m                                  Traceback (most recent call last)",
            "\u001b[0;32m/usr/local/lib/python3.11/dist-packages/ucimlrepo/fetch.py\u001b[0m in \u001b[0;36mfetch_ucirepo\u001b[0;34m(name, id)\u001b[0m\n\u001b[1;32m     67\u001b[0m     \u001b[0;32mtry\u001b[0m\u001b[0;34m:\u001b[0m\u001b[0;34m\u001b[0m\u001b[0;34m\u001b[0m\u001b[0m\n\u001b[0;32m---> 68\u001b[0;31m         \u001b[0mresponse\u001b[0m \u001b[0;34m=\u001b[0m \u001b[0murllib\u001b[0m\u001b[0;34m.\u001b[0m\u001b[0mrequest\u001b[0m\u001b[0;34m.\u001b[0m\u001b[0murlopen\u001b[0m\u001b[0;34m(\u001b[0m\u001b[0mapi_url\u001b[0m\u001b[0;34m,\u001b[0m \u001b[0mcontext\u001b[0m\u001b[0;34m=\u001b[0m\u001b[0mssl\u001b[0m\u001b[0;34m.\u001b[0m\u001b[0mcreate_default_context\u001b[0m\u001b[0;34m(\u001b[0m\u001b[0mcafile\u001b[0m\u001b[0;34m=\u001b[0m\u001b[0mcertifi\u001b[0m\u001b[0;34m.\u001b[0m\u001b[0mwhere\u001b[0m\u001b[0;34m(\u001b[0m\u001b[0;34m)\u001b[0m\u001b[0;34m)\u001b[0m\u001b[0;34m)\u001b[0m\u001b[0;34m\u001b[0m\u001b[0;34m\u001b[0m\u001b[0m\n\u001b[0m\u001b[1;32m     69\u001b[0m         \u001b[0mdata\u001b[0m \u001b[0;34m=\u001b[0m \u001b[0mjson\u001b[0m\u001b[0;34m.\u001b[0m\u001b[0mload\u001b[0m\u001b[0;34m(\u001b[0m\u001b[0mresponse\u001b[0m\u001b[0;34m)\u001b[0m\u001b[0;34m\u001b[0m\u001b[0;34m\u001b[0m\u001b[0m\n",
            "\u001b[0;32m/usr/lib/python3.11/urllib/request.py\u001b[0m in \u001b[0;36murlopen\u001b[0;34m(url, data, timeout, cafile, capath, cadefault, context)\u001b[0m\n\u001b[1;32m    215\u001b[0m         \u001b[0mopener\u001b[0m \u001b[0;34m=\u001b[0m \u001b[0m_opener\u001b[0m\u001b[0;34m\u001b[0m\u001b[0;34m\u001b[0m\u001b[0m\n\u001b[0;32m--> 216\u001b[0;31m     \u001b[0;32mreturn\u001b[0m \u001b[0mopener\u001b[0m\u001b[0;34m.\u001b[0m\u001b[0mopen\u001b[0m\u001b[0;34m(\u001b[0m\u001b[0murl\u001b[0m\u001b[0;34m,\u001b[0m \u001b[0mdata\u001b[0m\u001b[0;34m,\u001b[0m \u001b[0mtimeout\u001b[0m\u001b[0;34m)\u001b[0m\u001b[0;34m\u001b[0m\u001b[0;34m\u001b[0m\u001b[0m\n\u001b[0m\u001b[1;32m    217\u001b[0m \u001b[0;34m\u001b[0m\u001b[0m\n",
            "\u001b[0;32m/usr/lib/python3.11/urllib/request.py\u001b[0m in \u001b[0;36mopen\u001b[0;34m(self, fullurl, data, timeout)\u001b[0m\n\u001b[1;32m    518\u001b[0m         \u001b[0msys\u001b[0m\u001b[0;34m.\u001b[0m\u001b[0maudit\u001b[0m\u001b[0;34m(\u001b[0m\u001b[0;34m'urllib.Request'\u001b[0m\u001b[0;34m,\u001b[0m \u001b[0mreq\u001b[0m\u001b[0;34m.\u001b[0m\u001b[0mfull_url\u001b[0m\u001b[0;34m,\u001b[0m \u001b[0mreq\u001b[0m\u001b[0;34m.\u001b[0m\u001b[0mdata\u001b[0m\u001b[0;34m,\u001b[0m \u001b[0mreq\u001b[0m\u001b[0;34m.\u001b[0m\u001b[0mheaders\u001b[0m\u001b[0;34m,\u001b[0m \u001b[0mreq\u001b[0m\u001b[0;34m.\u001b[0m\u001b[0mget_method\u001b[0m\u001b[0;34m(\u001b[0m\u001b[0;34m)\u001b[0m\u001b[0;34m)\u001b[0m\u001b[0;34m\u001b[0m\u001b[0;34m\u001b[0m\u001b[0m\n\u001b[0;32m--> 519\u001b[0;31m         \u001b[0mresponse\u001b[0m \u001b[0;34m=\u001b[0m \u001b[0mself\u001b[0m\u001b[0;34m.\u001b[0m\u001b[0m_open\u001b[0m\u001b[0;34m(\u001b[0m\u001b[0mreq\u001b[0m\u001b[0;34m,\u001b[0m \u001b[0mdata\u001b[0m\u001b[0;34m)\u001b[0m\u001b[0;34m\u001b[0m\u001b[0;34m\u001b[0m\u001b[0m\n\u001b[0m\u001b[1;32m    520\u001b[0m \u001b[0;34m\u001b[0m\u001b[0m\n",
            "\u001b[0;32m/usr/lib/python3.11/urllib/request.py\u001b[0m in \u001b[0;36m_open\u001b[0;34m(self, req, data)\u001b[0m\n\u001b[1;32m    535\u001b[0m         \u001b[0mprotocol\u001b[0m \u001b[0;34m=\u001b[0m \u001b[0mreq\u001b[0m\u001b[0;34m.\u001b[0m\u001b[0mtype\u001b[0m\u001b[0;34m\u001b[0m\u001b[0;34m\u001b[0m\u001b[0m\n\u001b[0;32m--> 536\u001b[0;31m         result = self._call_chain(self.handle_open, protocol, protocol +\n\u001b[0m\u001b[1;32m    537\u001b[0m                                   '_open', req)\n",
            "\u001b[0;32m/usr/lib/python3.11/urllib/request.py\u001b[0m in \u001b[0;36m_call_chain\u001b[0;34m(self, chain, kind, meth_name, *args)\u001b[0m\n\u001b[1;32m    495\u001b[0m             \u001b[0mfunc\u001b[0m \u001b[0;34m=\u001b[0m \u001b[0mgetattr\u001b[0m\u001b[0;34m(\u001b[0m\u001b[0mhandler\u001b[0m\u001b[0;34m,\u001b[0m \u001b[0mmeth_name\u001b[0m\u001b[0;34m)\u001b[0m\u001b[0;34m\u001b[0m\u001b[0;34m\u001b[0m\u001b[0m\n\u001b[0;32m--> 496\u001b[0;31m             \u001b[0mresult\u001b[0m \u001b[0;34m=\u001b[0m \u001b[0mfunc\u001b[0m\u001b[0;34m(\u001b[0m\u001b[0;34m*\u001b[0m\u001b[0margs\u001b[0m\u001b[0;34m)\u001b[0m\u001b[0;34m\u001b[0m\u001b[0;34m\u001b[0m\u001b[0m\n\u001b[0m\u001b[1;32m    497\u001b[0m             \u001b[0;32mif\u001b[0m \u001b[0mresult\u001b[0m \u001b[0;32mis\u001b[0m \u001b[0;32mnot\u001b[0m \u001b[0;32mNone\u001b[0m\u001b[0;34m:\u001b[0m\u001b[0;34m\u001b[0m\u001b[0;34m\u001b[0m\u001b[0m\n",
            "\u001b[0;32m/usr/lib/python3.11/urllib/request.py\u001b[0m in \u001b[0;36mhttps_open\u001b[0;34m(self, req)\u001b[0m\n\u001b[1;32m   1390\u001b[0m         \u001b[0;32mdef\u001b[0m \u001b[0mhttps_open\u001b[0m\u001b[0;34m(\u001b[0m\u001b[0mself\u001b[0m\u001b[0;34m,\u001b[0m \u001b[0mreq\u001b[0m\u001b[0;34m)\u001b[0m\u001b[0;34m:\u001b[0m\u001b[0;34m\u001b[0m\u001b[0;34m\u001b[0m\u001b[0m\n\u001b[0;32m-> 1391\u001b[0;31m             return self.do_open(http.client.HTTPSConnection, req,\n\u001b[0m\u001b[1;32m   1392\u001b[0m                 context=self._context, check_hostname=self._check_hostname)\n",
            "\u001b[0;32m/usr/lib/python3.11/urllib/request.py\u001b[0m in \u001b[0;36mdo_open\u001b[0;34m(self, http_class, req, **http_conn_args)\u001b[0m\n\u001b[1;32m   1350\u001b[0m             \u001b[0;32mexcept\u001b[0m \u001b[0mOSError\u001b[0m \u001b[0;32mas\u001b[0m \u001b[0merr\u001b[0m\u001b[0;34m:\u001b[0m \u001b[0;31m# timeout error\u001b[0m\u001b[0;34m\u001b[0m\u001b[0;34m\u001b[0m\u001b[0m\n\u001b[0;32m-> 1351\u001b[0;31m                 \u001b[0;32mraise\u001b[0m \u001b[0mURLError\u001b[0m\u001b[0;34m(\u001b[0m\u001b[0merr\u001b[0m\u001b[0;34m)\u001b[0m\u001b[0;34m\u001b[0m\u001b[0;34m\u001b[0m\u001b[0m\n\u001b[0m\u001b[1;32m   1352\u001b[0m             \u001b[0mr\u001b[0m \u001b[0;34m=\u001b[0m \u001b[0mh\u001b[0m\u001b[0;34m.\u001b[0m\u001b[0mgetresponse\u001b[0m\u001b[0;34m(\u001b[0m\u001b[0;34m)\u001b[0m\u001b[0;34m\u001b[0m\u001b[0;34m\u001b[0m\u001b[0m\n",
            "\u001b[0;31mURLError\u001b[0m: <urlopen error [Errno 110] Connection timed out>",
            "\nDuring handling of the above exception, another exception occurred:\n",
            "\u001b[0;31mConnectionError\u001b[0m                           Traceback (most recent call last)",
            "\u001b[0;32m/tmp/ipython-input-2-4255439221.py\u001b[0m in \u001b[0;36m<cell line: 0>\u001b[0;34m()\u001b[0m\n\u001b[1;32m      1\u001b[0m \u001b[0;31m# fetch dataset\u001b[0m\u001b[0;34m\u001b[0m\u001b[0;34m\u001b[0m\u001b[0m\n\u001b[0;32m----> 2\u001b[0;31m \u001b[0mdataset\u001b[0m\u001b[0;34m=\u001b[0m \u001b[0mfetch_ucirepo\u001b[0m\u001b[0;34m(\u001b[0m\u001b[0mid\u001b[0m\u001b[0;34m=\u001b[0m\u001b[0;36m544\u001b[0m\u001b[0;34m)\u001b[0m\u001b[0;34m\u001b[0m\u001b[0;34m\u001b[0m\u001b[0m\n\u001b[0m\u001b[1;32m      3\u001b[0m \u001b[0;34m\u001b[0m\u001b[0m\n\u001b[1;32m      4\u001b[0m \u001b[0;31m# data (as pandas dataframes)\u001b[0m\u001b[0;34m\u001b[0m\u001b[0;34m\u001b[0m\u001b[0m\n\u001b[1;32m      5\u001b[0m \u001b[0mX\u001b[0m \u001b[0;34m=\u001b[0m \u001b[0mdataset\u001b[0m\u001b[0;34m.\u001b[0m\u001b[0mdata\u001b[0m\u001b[0;34m.\u001b[0m\u001b[0mfeatures\u001b[0m\u001b[0;34m\u001b[0m\u001b[0;34m\u001b[0m\u001b[0m\n",
            "\u001b[0;32m/usr/local/lib/python3.11/dist-packages/ucimlrepo/fetch.py\u001b[0m in \u001b[0;36mfetch_ucirepo\u001b[0;34m(name, id)\u001b[0m\n\u001b[1;32m     69\u001b[0m         \u001b[0mdata\u001b[0m \u001b[0;34m=\u001b[0m \u001b[0mjson\u001b[0m\u001b[0;34m.\u001b[0m\u001b[0mload\u001b[0m\u001b[0;34m(\u001b[0m\u001b[0mresponse\u001b[0m\u001b[0;34m)\u001b[0m\u001b[0;34m\u001b[0m\u001b[0;34m\u001b[0m\u001b[0m\n\u001b[1;32m     70\u001b[0m     \u001b[0;32mexcept\u001b[0m \u001b[0;34m(\u001b[0m\u001b[0murllib\u001b[0m\u001b[0;34m.\u001b[0m\u001b[0merror\u001b[0m\u001b[0;34m.\u001b[0m\u001b[0mURLError\u001b[0m\u001b[0;34m,\u001b[0m \u001b[0murllib\u001b[0m\u001b[0;34m.\u001b[0m\u001b[0merror\u001b[0m\u001b[0;34m.\u001b[0m\u001b[0mHTTPError\u001b[0m\u001b[0;34m)\u001b[0m\u001b[0;34m:\u001b[0m\u001b[0;34m\u001b[0m\u001b[0;34m\u001b[0m\u001b[0m\n\u001b[0;32m---> 71\u001b[0;31m         \u001b[0;32mraise\u001b[0m \u001b[0mConnectionError\u001b[0m\u001b[0;34m(\u001b[0m\u001b[0;34m'Error connecting to server'\u001b[0m\u001b[0;34m)\u001b[0m\u001b[0;34m\u001b[0m\u001b[0;34m\u001b[0m\u001b[0m\n\u001b[0m\u001b[1;32m     72\u001b[0m \u001b[0;34m\u001b[0m\u001b[0m\n\u001b[1;32m     73\u001b[0m     \u001b[0;31m# verify that dataset exists\u001b[0m\u001b[0;34m\u001b[0m\u001b[0;34m\u001b[0m\u001b[0m\n",
            "\u001b[0;31mConnectionError\u001b[0m: Error connecting to server"
          ]
        }
      ]
    },
    {
      "cell_type": "markdown",
      "source": [
        "# 3.1 EDA Features 0 - 7 Analyse (Julia)\n",
        "\n",
        "\n",
        "\n"
      ],
      "metadata": {
        "id": "8BKEKKoeqNQA"
      }
    },
    {
      "cell_type": "markdown",
      "source": [
        "Schritt 1: Setup und Datenauswahl"
      ],
      "metadata": {
        "id": "Ohj68qU7rKGm"
      }
    },
    {
      "cell_type": "code",
      "source": [
        "# 1. Featureliste für Feature 0–7\n",
        "features_0_7 = ['Gender', 'Age', 'Height', 'Weight',\n",
        "                'family_history_with_overweight', 'FAVC', 'FCVC', 'NCP']\n",
        "\n",
        "print(\"=== EDA für Features 0–7 ===\")\n",
        "\n"
      ],
      "metadata": {
        "id": "kqfKfwXBqZRe"
      },
      "execution_count": null,
      "outputs": []
    },
    {
      "cell_type": "markdown",
      "source": [
        "Schritt 2: Data Quality Check"
      ],
      "metadata": {
        "id": "RvT5msITQ700"
      }
    },
    {
      "cell_type": "code",
      "source": [
        "# === Data Quality Check (Julia) ===\n",
        "\n",
        "# 1. Fehlende Werte prüfen\n",
        "print(\"Fehlende Werte pro Feature:\")\n",
        "print(df[features_0_7].isnull().sum())\n",
        "\n",
        "# 2. Datentypen prüfen\n",
        "print(\"\\nDatentypen der Features:\")\n",
        "print(df[features_0_7].dtypes)\n",
        "\n",
        "# 3. Duplikate prüfen (nur Features 0–7)\n",
        "duplicates = df[features_0_7].duplicated(keep=False)  # Alle Duplikate markieren (inkl. erster Vorkommen)\n",
        "print(f\"\\nGesamtzahl der Duplikate (alle betroffenen Zeilen): {duplicates.sum()}\")\n",
        "\n",
        "# 4. Duplikatgruppen analysieren (inkl. Target)\n",
        "duplicate_groups = df[features_0_7 + ['NObeyesdad']].groupby(features_0_7).filter(lambda x: len(x) > 1)\n",
        "print(f\"\\nAnzahl der Duplikatgruppen: {duplicate_groups.groupby(features_0_7).ngroups}\")\n",
        "print(f\"Gesamtzahl der Zeilen in Duplikatgruppen: {len(duplicate_groups)}\")\n",
        "\n",
        "# 5. Duplikatgruppen anzeigen\n",
        "print(\"\\nAlle Duplikatgruppen (Features 0–7 + Target):\")\n",
        "if not duplicate_groups.empty:\n",
        "    display(duplicate_groups.sort_values(by=features_0_7))\n",
        "else:\n",
        "    print(\"Keine Duplikate gefunden.\")\n",
        "\n",
        "# 6. Konfliktanalyse (unterschiedliches Target in gleichen Features)\n",
        "conflicting_targets = duplicate_groups.groupby(features_0_7)['NObeyesdad'].nunique() > 1\n",
        "print(f\"\\nFälle mit gleichen Features, aber unterschiedlichem Target: {conflicting_targets.sum()}\")\n",
        "\n"
      ],
      "metadata": {
        "id": "ntUtHACBrkVp"
      },
      "execution_count": null,
      "outputs": []
    },
    {
      "cell_type": "code",
      "source": [],
      "metadata": {
        "id": "kNnZb2l-uE4C"
      },
      "execution_count": null,
      "outputs": []
    },
    {
      "cell_type": "markdown",
      "source": [
        "Data Quality Check Notes(Julia)\n",
        "\n",
        "- **Fehlende Werte:** Keine in Features 0–7.\n",
        "- **Datentypen:** Korrekt erkannt (numerisch, kategorial, binär).\n",
        "- **Duplikate:**  \n",
        "  - 25 Duplikatgruppen  \n",
        "  - 35 betroffene Zeilen  \n",
        "  - Keine Konflikte im Target  \n",
        "- **Notes:**  \n",
        "  Die identifizierten echten Duplikate (Features + Target identisch) **werden bei Data Preparation entfernt**.\n",
        "\n",
        "```\n",
        "\n",
        "\n"
      ],
      "metadata": {
        "id": "DSfZM6jlZLbD"
      }
    },
    {
      "cell_type": "markdown",
      "source": [
        "Schritt 3: Deskriptive Statistik & Verteilungsanalyse pro Feature:\n",
        "\n",
        "| Feature | Typ         | Beschreibung                                 | Wertebereich/Kodierung           |\n",
        "|---------|-------------|----------------------------------------------|----------------------------------|\n",
        "| Gender  | Kategorial  | Geschlecht                                   | Male, Female                     |\n",
        "| Age     | Numerisch   | Alter in Jahren                              | 14–61                            |\n",
        "| Height  | Numerisch   | Körpergröße in Meter                         | 1.45–1.98                        |\n",
        "| Weight  | Numerisch   | Gewicht in kg                                | 39–173                           |\n",
        "| family_history_with_overweight | Binär | Familiäre Vorbelastung mit Übergewicht | yes, no           |\n",
        "| FAVC    | Binär       | Häufiger Konsum hochkalorischer Nahrung      | yes, no                          |\n",
        "| FCVC    | Ordinal     | Gemüseverzehr (1=selten, 3=oft)              | 1.0–3.0                          |\n",
        "| NCP     | Numerisch   | Hauptmahlzeiten pro Tag                      | 1.0–4.0                          |\n"
      ],
      "metadata": {
        "id": "RMEx-2uEpUE7"
      }
    },
    {
      "cell_type": "markdown",
      "source": [
        "Feature Gender"
      ],
      "metadata": {
        "id": "GR4rE0a4wYDW"
      }
    },
    {
      "cell_type": "code",
      "source": [
        "feature = 'Gender'\n",
        "\n",
        "# Absolute und prozentuale Häufigkeiten berechnen\n",
        "gender_counts = df[feature].value_counts()\n",
        "gender_props = df[feature].value_counts(normalize=True) * 100\n",
        "\n",
        "print(f\"=== Feature: {feature} ===\")\n",
        "print(gender_counts)\n",
        "print(gender_props.round(1))"
      ],
      "metadata": {
        "id": "VGzjHpLktIY1"
      },
      "execution_count": null,
      "outputs": []
    },
    {
      "cell_type": "markdown",
      "source": [
        "Visualisierung"
      ],
      "metadata": {
        "id": "WM3nNO13woc8"
      }
    },
    {
      "cell_type": "code",
      "source": [
        "import plotly.express as px\n",
        "gender_df = pd.DataFrame({\n",
        "    \"Gender\": gender_counts.index,\n",
        "    \"Anzahl\": gender_counts.values,\n",
        "    \"Prozent\": gender_props.values\n",
        "})\n",
        "\n",
        "fig = px.bar(\n",
        "    gender_df,\n",
        "    x=\"Gender\",\n",
        "    y=\"Anzahl\",\n",
        "    color=\"Gender\",\n",
        "    text=gender_df[\"Prozent\"].apply(lambda x: f\"{x:.1f}%\"),\n",
        "    title=\"Verteilung der Geschlechter im Datensatz\",\n",
        "    color_discrete_sequence=px.colors.qualitative.Pastel\n",
        ")\n",
        "fig.update_traces(textposition='outside')\n",
        "fig.update_layout(showlegend=False, yaxis_title=\"Anzahl\", xaxis_title=\"Geschlecht\")\n",
        "fig.show()\n"
      ],
      "metadata": {
        "id": "29cl5HwWwqB5"
      },
      "execution_count": null,
      "outputs": []
    },
    {
      "cell_type": "code",
      "source": [
        "import pandas as pd\n",
        "from scipy.stats import chi2_contingency\n",
        "\n",
        "# Absolute Häufigkeiten\n",
        "cross_tab = pd.crosstab(df['Gender'], df['NObeyesdad'])\n",
        "print(\"Absolute Häufigkeiten:\")\n",
        "display(cross_tab)\n",
        "\n",
        "# Chi-Quadrat-Test auf Unabhängigkeit\n",
        "chi2, p, dof, expected = chi2_contingency(cross_tab)\n",
        "print(f\"\\nChi-Quadrat-Test: p-Wert = {p:.4f}\")\n",
        "\n",
        "# Interpretation\n",
        "if p < 0.05:\n",
        "    print(\"Signifikanter Zusammenhang zwischen Gender und Adipositas-Level (p < 0.05).\")\n",
        "else:\n",
        "    print(\"Kein signifikanter Zusammenhang (p ≥ 0.05).\")"
      ],
      "metadata": {
        "id": "gkb6aad8zkRu"
      },
      "execution_count": null,
      "outputs": []
    },
    {
      "cell_type": "code",
      "source": [
        "import plotly.express as px\n",
        "\n",
        "fig = px.bar(\n",
        "    cross_tab.reset_index(),\n",
        "    x='Gender',\n",
        "    y=cross_tab.columns.tolist(),\n",
        "    title=\"Adipositas-Level nach Geschlecht\",\n",
        "    labels={'value': 'Anzahl', 'Gender': 'Geschlecht'},\n",
        "    color_discrete_sequence=px.colors.qualitative.Pastel\n",
        ")\n",
        "fig.update_layout(barmode='group')  # 'group' für nebeneinander, 'stack' für gestapelt\n",
        "fig.show()\n"
      ],
      "metadata": {
        "id": "ePJniww8zpMk"
      },
      "execution_count": null,
      "outputs": []
    },
    {
      "cell_type": "markdown",
      "source": [
        "Zusammenhang zwischen Gender und Adipositas-Level (Julia)\n",
        "Analyse:\n",
        "Es wurde eine Kreuztabelle zwischen Gender und dem Target (NObeyesdad) erstellt. Die absoluten Häufigkeiten zeigen deutliche Unterschiede in den Adipositas-Leveln zwischen Männern und Frauen.\n",
        "\n",
        "Statistik:\n",
        "Ein Chi-Quadrat-Test auf Unabhängigkeit ergab einen hochsignifikanten Zusammenhang zwischen Gender und Adipositas-Level (p = 0.0000, also p < 0.05).\n",
        "\n",
        "Visualisierung:\n",
        "Das gruppierte Balkendiagramm zeigt, dass:\n",
        "\n",
        "Frauen häufiger in den Kategorien Insufficient_Weight, Obesity_Type_III und Overweight_Level_I vertreten sind.\n",
        "\n",
        "Männer häufiger in den Kategorien Obesity_Type_II, Normal_Weight und Overweight_Level_II vorkommen.\n",
        "\n",
        "Interpretation:\n",
        "Es gibt einen statistisch signifikanten Zusammenhang zwischen Geschlecht und Adipositas-Level. Die Verteilung der Adipositas-Kategorien unterscheidet sich deutlich zwischen Männern und Frauen.\n",
        "Dies stimmt mit der Literatur überein, die geschlechtsspezifische Unterschiede im Risiko und Verlauf von Übergewicht und Adipositas beschreibt (z.B. hormonelle, genetische und soziokulturelle Faktoren).\n",
        "\n",
        "Relevanz:\n",
        "Das Feature Gender sollte im Modell berücksichtigt werden, da es einen Einfluss auf die Zielvariable hat.\n",
        "\n"
      ],
      "metadata": {
        "id": "PaX_4Vih0_EV"
      }
    },
    {
      "cell_type": "markdown",
      "source": [
        "Feature Age"
      ],
      "metadata": {
        "id": "kSmSJdBf1KeY"
      }
    },
    {
      "cell_type": "code",
      "source": [
        "feature = 'Age'\n",
        "print(df[feature].describe())\n",
        "print(f\"Median: {df[feature].median():.1f}\")\n",
        "print(f\"IQR: {df[feature].quantile(0.75) - df[feature].quantile(0.25):.1f}\")"
      ],
      "metadata": {
        "id": "rWV6HIe71cfg"
      },
      "execution_count": null,
      "outputs": []
    },
    {
      "cell_type": "code",
      "source": [
        "import plotly.express as px\n",
        "\n",
        "fig = px.histogram(\n",
        "    df,\n",
        "    x='Age',\n",
        "    nbins=20,\n",
        "    marginal='box',  # Zeigt Boxplot oberhalb des Histogramms\n",
        "    title='Altersverteilung der Stichprobe',\n",
        "    labels={'Age': 'Alter (Jahre)', 'count': 'Anzahl'},\n",
        "    color_discrete_sequence=['#8ecae6']\n",
        ")\n",
        "fig.update_layout(bargap=0.1)\n",
        "fig.show()"
      ],
      "metadata": {
        "id": "0AsNQHn5389e"
      },
      "execution_count": null,
      "outputs": []
    },
    {
      "cell_type": "code",
      "source": [
        "import plotly.express as px\n",
        "\n",
        "fig = px.histogram(\n",
        "    df,\n",
        "    x='Age',\n",
        "    facet_col='NObeyesdad',\n",
        "    color='NObeyesdad',\n",
        "    title='Altersverteilung je Obesity-Level',\n",
        "    color_discrete_sequence=px.colors.qualitative.Pastel,\n",
        "    nbins=20\n",
        ")\n",
        "fig.update_layout(showlegend=False)\n",
        "fig.show()"
      ],
      "metadata": {
        "id": "p_gD-uru2hty"
      },
      "execution_count": null,
      "outputs": []
    },
    {
      "cell_type": "code",
      "source": [
        "print(df.groupby('NObeyesdad')['Age'].describe())"
      ],
      "metadata": {
        "id": "5GnlX3Gk16J1"
      },
      "execution_count": null,
      "outputs": []
    },
    {
      "cell_type": "code",
      "source": [
        "numerical_features = ['Age', 'Height', 'Weight', 'FCVC', 'NCP']\n",
        "corr = df[numerical_features].corr()\n",
        "fig = px.imshow(corr, text_auto=True, title='Korrelationsmatrix')\n",
        "fig.show()"
      ],
      "metadata": {
        "id": "szZWzz-o2Cf8"
      },
      "execution_count": null,
      "outputs": []
    },
    {
      "cell_type": "markdown",
      "source": [
        "**Was sagen die Werte in deinem Plot?**\n",
        "\n",
        "Age und Height:\n",
        "Korrelation: -0.03\n",
        "→ Kein Zusammenhang zwischen Alter und Körpergröße.\n",
        "\n",
        "Height und Weight:\n",
        "Korrelation: 0.46\n",
        "→ Mittlere positive Korrelation: Größere Personen wiegen tendenziell mehr.\n",
        "\n",
        "Weight und FCVC:\n",
        "Korrelation: 0.22\n",
        "→ Schwacher positiver Zusammenhang: Höheres Gewicht ist leicht mit häufigerem Gemüseverzehr assoziiert (kann Zufall sein).\n",
        "\n",
        "FCVC und NCP:\n",
        "Korrelation: 0.03\n",
        "→ Praktisch kein Zusammenhang zwischen Gemüseverzehr und Anzahl der Hauptmahlzeiten.\n",
        "\n",
        "Alle anderen Werte:\n",
        "Liegen nahe bei 0 → Kein linearer Zusammenhang.\n",
        "Was bedeutet das für deine Analyse?\n",
        "Starke Korrelationen (>0.7 oder <-0.7): Keine vorhanden.\n",
        "→ Keine Gefahr von starker Multikollinearität.\n",
        "\n",
        "Mittlere Korrelation:\n",
        "Nur zwischen Height und Weight (0.46) – das ist physiologisch plausibel.\n",
        "\n",
        "Fast alle anderen Features sind unabhängig voneinander."
      ],
      "metadata": {
        "id": "qiJT_n0z7WQj"
      }
    },
    {
      "cell_type": "code",
      "source": [
        "import numpy as np\n",
        "\n",
        "def correlation_ratio(categories, values):\n",
        "    # categories: Target (z.B. NObeyesdad)\n",
        "    # values: numerisches Feature (z.B. Age)\n",
        "    categories = np.array(categories)\n",
        "    values = np.array(values)\n",
        "    category_means = [values[categories == cat].mean() for cat in np.unique(categories)]\n",
        "    n = np.array([sum(categories == cat) for cat in np.unique(categories)])\n",
        "    grand_mean = values.mean()\n",
        "    numerator = sum(n * (category_means - grand_mean) ** 2)\n",
        "    denominator = sum((values - grand_mean) ** 2)\n",
        "    eta = np.sqrt(numerator / denominator)\n",
        "    return eta\n",
        "\n",
        "for feature in numerical_features:\n",
        "    eta = correlation_ratio(df['NObeyesdad'], df[feature])\n",
        "    print(f\"Korrelationsverhältnis (Eta) für {feature} und NObeyesdad: {eta:.2f}\")"
      ],
      "metadata": {
        "id": "rzcgg8bk6mC2"
      },
      "execution_count": null,
      "outputs": []
    },
    {
      "cell_type": "code",
      "source": [
        "import numpy as np\n",
        "import pandas as pd\n",
        "import plotly.express as px\n",
        "\n",
        "# Funktion für Korrelationsverhältnis (Eta)\n",
        "def correlation_ratio(categories, values):\n",
        "    categories = np.array(categories)\n",
        "    values = np.array(values)\n",
        "    cats = np.unique(categories)\n",
        "    n = len(values)\n",
        "    grand_mean = values.mean()\n",
        "    numerator = sum([(values[categories == cat].mean() - grand_mean)**2 * sum(categories == cat) for cat in cats])\n",
        "    denominator = sum((values - grand_mean)**2)\n",
        "    return np.sqrt(numerator / denominator) if denominator != 0 else 0\n",
        "\n",
        "# Berechne Eta für alle numerischen Features vs. Target\n",
        "eta_values = {}\n",
        "for feature in numerical_features:\n",
        "    eta = correlation_ratio(df['NObeyesdad'], df[feature])\n",
        "    eta_values[feature] = eta\n",
        "\n",
        "# Erstelle DataFrame für die Matrix\n",
        "eta_df = pd.DataFrame({\n",
        "    'Feature': numerical_features,\n",
        "    'NObeyesdad (Eta)': [eta_values[feature] for feature in numerical_features]\n",
        "}).set_index('Feature')\n",
        "\n",
        "# Visualisierung mit Heatmap\n",
        "fig = px.imshow(\n",
        "    eta_df.T,  # Transponiert, um Features in Zeilen und Target in Spalten zu zeigen\n",
        "    text_auto=\".2f\",\n",
        "    color_continuous_scale='Blues',\n",
        "    title=\"Korrelationsverhältnis (Eta) zwischen numerischen Features und Target\"\n",
        ")\n",
        "fig.update_layout(xaxis_title=\"Feature\", yaxis_title=\"Target (NObeyesdad)\")\n",
        "fig.show()"
      ],
      "metadata": {
        "id": "FQ_9ZiEW6ogP"
      },
      "execution_count": null,
      "outputs": []
    },
    {
      "cell_type": "markdown",
      "source": [
        "#### Korrelationsverhältnis (Eta) zwischen numerischen Features und Target (Julia)\n",
        "\n",
        "- **Weight** (Eta = 0.92): Sehr starker Zusammenhang mit dem Adipositas-Level – das Feature ist für die Vorhersage entscheidend.\n",
        "- **FCVC** (Eta = 0.49) und **Age** (Eta = 0.43): Mittlerer Zusammenhang, beide Features tragen relevant zur Modellierung bei.\n",
        "- **Height** (Eta = 0.31) und **NCP** (Eta = 0.27): Schwacher Zusammenhang, geringere Bedeutung für die Zielvariable.\n",
        "\n",
        "**Fazit:**  \n",
        "Weight ist das wichtigste numerische Feature für die Vorhersage von NObeyesdad, gefolgt von FCVC und Age. Height und NCP sind weniger relevant, können aber als Zusatzinformation im Modell verbleiben.\n",
        "\n",
        "**Visualisierung:**  \n",
        "Die Heatmap zeigt die Stärke des Zusammenhangs farbcodiert und numerisch an.  \n"
      ],
      "metadata": {
        "id": "4reRwOTZ6IEO"
      }
    },
    {
      "cell_type": "markdown",
      "source": [
        "Feature Weight\n"
      ],
      "metadata": {
        "id": "OIZ9OSnP8KOv"
      }
    },
    {
      "cell_type": "code",
      "source": [
        "feature = 'Weight'\n",
        "\n",
        "# Deskriptive Statistik\n",
        "weight_desc = df[feature].describe()\n",
        "weight_median = df[feature].median()\n",
        "weight_iqr = df[feature].quantile(0.75) - df[feature].quantile(0.25)\n",
        "\n",
        "print(f\"=== Feature: {feature} ===\")\n",
        "print(weight_desc)\n",
        "print(f\"Median: {weight_median:.1f}\")\n",
        "print(f\"IQR: {weight_iqr:.1f}\")"
      ],
      "metadata": {
        "id": "mlFWd2hg8RPo"
      },
      "execution_count": null,
      "outputs": []
    },
    {
      "cell_type": "code",
      "source": [
        "import plotly.express as px\n",
        "\n",
        "fig = px.box(\n",
        "    df,\n",
        "    x='NObeyesdad',\n",
        "    y='Weight',\n",
        "    color='NObeyesdad',\n",
        "    title='Gewichtsverteilung pro Adipositas-Level',\n",
        "    color_discrete_sequence=px.colors.qualitative.Pastel\n",
        ")\n",
        "fig.update_layout(\n",
        "    xaxis_title=\"Obesity-Level\",\n",
        "    yaxis_title=\"Gewicht (kg)\",\n",
        "    showlegend=False\n",
        ")\n",
        "fig.show()\n",
        "\n"
      ],
      "metadata": {
        "id": "QH9DgF1O9enE"
      },
      "execution_count": null,
      "outputs": []
    },
    {
      "cell_type": "code",
      "source": [
        "fig = px.histogram(\n",
        "    df,\n",
        "    x='Weight',\n",
        "    facet_col='NObeyesdad',\n",
        "    color='NObeyesdad',\n",
        "    title='Gewichtsverteilung je Adipositas-Level',\n",
        "    color_discrete_sequence=px.colors.qualitative.Pastel,\n",
        "    nbins=20\n",
        ")\n",
        "fig.update_layout(showlegend=False)\n",
        "fig.show()\n"
      ],
      "metadata": {
        "id": "pto6yX74-W0i"
      },
      "execution_count": null,
      "outputs": []
    },
    {
      "cell_type": "markdown",
      "source": [
        "Feature: hight\n"
      ],
      "metadata": {
        "id": "joKIgSk6-tW8"
      }
    },
    {
      "cell_type": "code",
      "source": [
        "height_desc = df['Height'].describe()\n",
        "height_median = df['Height'].median()\n",
        "height_iqr = df['Height'].quantile(0.75) - df['Height'].quantile(0.25)\n",
        "\n",
        "print(f\"=== Feature: Height ===\")\n",
        "print(height_desc)\n",
        "print(f\"Median: {height_median:.2f}\")\n",
        "print(f\"IQR: {height_iqr:.2f}\")\n"
      ],
      "metadata": {
        "id": "6TMWEMQf-vdF"
      },
      "execution_count": null,
      "outputs": []
    },
    {
      "cell_type": "code",
      "source": [
        "fig = px.violin(\n",
        "    df,\n",
        "    x='NObeyesdad',\n",
        "    y='Weight',\n",
        "    color='NObeyesdad',\n",
        "    box=True,\n",
        "    points=\"all\",\n",
        "    title='Gewichtsverteilung pro Adipositas-Level (Violinplot)',\n",
        "    color_discrete_sequence=px.colors.qualitative.Pastel\n",
        ")\n",
        "fig.update_layout(\n",
        "    xaxis_title='Adipositas-Level',\n",
        "    yaxis_title='Gewicht (kg)',\n",
        "    showlegend=False\n",
        ")\n",
        "fig.show()\n",
        "\n"
      ],
      "metadata": {
        "id": "mfgLQf-8_EpE"
      },
      "execution_count": null,
      "outputs": []
    },
    {
      "cell_type": "code",
      "source": [
        "df['BMI'] = df['Weight'] / (df['Height'] ** 2)\n",
        "\n",
        "fig.show()"
      ],
      "metadata": {
        "id": "gAetvmFtAvuo"
      },
      "execution_count": null,
      "outputs": []
    },
    {
      "cell_type": "code",
      "source": [
        "# Beispielplots mit Zielvariable\n",
        "for feature in features_0_7:\n",
        "    if df[feature].dtype == 'object' or df[feature].nunique() < 10:\n",
        "        fig = px.histogram(df, x=feature, color=target_col, barmode=\"group\",\n",
        "                           title=f\"{feature} nach Zielklasse\")\n",
        "    else:\n",
        "        fig = px.box(df, x=target_col, y=feature, title=f\"{feature} nach Zielklasse\")\n",
        "    fig.show()"
      ],
      "metadata": {
        "id": "rYjSOH8DMucv"
      },
      "execution_count": null,
      "outputs": []
    },
    {
      "cell_type": "markdown",
      "source": [],
      "metadata": {
        "id": "65ezyyo9Mkew"
      }
    },
    {
      "cell_type": "markdown",
      "source": [
        "Data Quality Check:"
      ],
      "metadata": {
        "id": "J6eF0COnraRr"
      }
    },
    {
      "cell_type": "markdown",
      "source": [
        "# 3.2 EDA Features 9-16"
      ],
      "metadata": {
        "id": "Jt3zfOGfPU00"
      }
    },
    {
      "cell_type": "code",
      "source": [
        "# Featureliste für Feature 8–15\n",
        "features_8_15 = ['CAEC', 'SMOKE', 'CH2O', 'SCC', 'FAF', 'TUE', 'CALC', 'MTRANS']\n",
        "\n",
        "print(\"=== EDA für Features 8–15 ===\")\n",
        "\n",
        "# Fehlende Werte\n",
        "print(\"\\nFehlende Werte:\")\n",
        "print(df[features_8_15].isnull().sum())\n",
        "\n",
        "# Datentypen\n",
        "print(\"\\nDatentypen:\")\n",
        "print(df[features_8_15].dtypes)\n",
        "\n",
        "\n",
        "\n"
      ],
      "metadata": {
        "id": "OkHdYOkT-HVc"
      },
      "execution_count": null,
      "outputs": []
    },
    {
      "cell_type": "markdown",
      "source": [
        "Was bedeutet das alles?\n"
      ],
      "metadata": {
        "id": "mnFbRBMuIvie"
      }
    },
    {
      "cell_type": "code",
      "source": [
        "print(\"\\n=== PRÜFUNG AUF DOPPELTE ZEILEN ===\")\n",
        "\n",
        "# Nur in diesen Spalten nach Duplikaten suchen\n",
        "duplicates_8_15 = df[features_8_15].duplicated()\n",
        "num_duplicates = duplicates_8_15.sum()\n",
        "\n",
        "print(f\"Anzahl doppelter Zeilen (Features 8–15): {num_duplicates}\")\n",
        "\n",
        "# Optional: Doppelte Zeilen anzeigen\n",
        "if num_duplicates > 0:\n",
        "    print(\"\\nFolgende Zeilen sind Duplikate:\")\n",
        "    print(df[features_8_15][duplicates_8_15])\n",
        "else:\n",
        "    print(\"\\nKeine Duplikate gefunden.\")"
      ],
      "metadata": {
        "id": "y4dwVOPGKwVi"
      },
      "execution_count": null,
      "outputs": []
    },
    {
      "cell_type": "code",
      "source": [
        "# Beispielplots mit Zielvariable\n",
        "for feature in features_8_15:\n",
        "    if df[feature].dtype == 'object' or df[feature].nunique() < 10:\n",
        "        fig = px.histogram(df, x=feature, color=target_col, barmode=\"group\",\n",
        "                           title=f\"{feature} nach Zielklasse\")\n",
        "    else:\n",
        "        fig = px.box(df, x=target_col, y=feature, title=f\"{feature} nach Zielklasse\")\n",
        "    fig.show()"
      ],
      "metadata": {
        "id": "NZ8TuTs_ItRj"
      },
      "execution_count": null,
      "outputs": []
    },
    {
      "cell_type": "code",
      "source": [],
      "metadata": {
        "id": "8ND8QWhnPiYu"
      },
      "execution_count": null,
      "outputs": []
    },
    {
      "cell_type": "markdown",
      "source": [
        "# 3.3 EDA Target"
      ],
      "metadata": {
        "id": "k1TBFYEBGl2j"
      }
    },
    {
      "cell_type": "code",
      "source": [
        "print(\"\\n=== Zielvariable: NObeyesdad ===\")\n",
        "\n",
        "# Klassenverteilung anzeigen\n",
        "print(df[target_col].value_counts())\n",
        "\n",
        "# Visualisierung\n",
        "fig = px.histogram(df, x=target_col, title=\"Verteilung der Zielklassen\")\n",
        "fig.show()"
      ],
      "metadata": {
        "id": "1AJ6qAqYGvcM"
      },
      "execution_count": null,
      "outputs": []
    },
    {
      "cell_type": "markdown",
      "source": [
        "# 4. Data Preparation"
      ],
      "metadata": {
        "id": "XVmfaO3BPjKj"
      }
    },
    {
      "cell_type": "code",
      "source": [
        "df_cleaned = df[~(df[features_8_15].eq(df[features_8_15].shift(1)).all(axis=1) &\n",
        "                  df[features_8_15].eq(df[features_8_15].shift(2)).all(axis=1))].reset_index(drop=True)\n",
        "\n",
        "print(\"Anomalien\")"
      ],
      "metadata": {
        "id": "PSzlqg2SPo0i"
      },
      "execution_count": null,
      "outputs": []
    },
    {
      "cell_type": "markdown",
      "source": [
        "# 5. Modell 1: Logistic Regression"
      ],
      "metadata": {
        "id": "Hh2Z9ztPPrqj"
      }
    },
    {
      "cell_type": "code",
      "source": [],
      "metadata": {
        "id": "2y1o-juyPw6u"
      },
      "execution_count": null,
      "outputs": []
    },
    {
      "cell_type": "markdown",
      "source": [
        "# 6. Modell 2: Random Forest"
      ],
      "metadata": {
        "id": "KOCylp0EPxVm"
      }
    },
    {
      "cell_type": "code",
      "source": [],
      "metadata": {
        "id": "rT2ZbK8MP2ok"
      },
      "execution_count": null,
      "outputs": []
    },
    {
      "cell_type": "markdown",
      "source": [
        "# 7. Evaluation und Vergleich"
      ],
      "metadata": {
        "id": "uePBDFbKP6n7"
      }
    },
    {
      "cell_type": "markdown",
      "source": [],
      "metadata": {
        "id": "Xt3Vryz_QCdM"
      }
    }
  ]
}